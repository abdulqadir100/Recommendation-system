{
 "cells": [
  {
   "cell_type": "code",
   "execution_count": 1,
   "metadata": {},
   "outputs": [],
   "source": [
    "from test_module import user_input"
   ]
  },
  {
   "cell_type": "markdown",
   "metadata": {},
   "source": [
    "### some movies"
   ]
  },
  {
   "cell_type": "code",
   "execution_count": 2,
   "metadata": {},
   "outputs": [
    {
     "data": {
      "text/plain": [
       "('Three Wishes (1995)',\n",
       " 'To Live (Huozhe) (1994)',\n",
       " 'Marlene Dietrich: Shadow and Light (1996) ',\n",
       " 'Mad Dog Time (1996)',\n",
       " 'On Golden Pond (1981)',\n",
       " 'Free Willy 3: The Rescue (1997)',\n",
       " 'Escape to Witch Mountain (1975)',\n",
       " 'Best of the Best 3: No Turning Back (1995)',\n",
       " 'Before the Rain (Pred dozhdot) (1994)',\n",
       " 'Batman & Robin (1997)',\n",
       " 'Journey of August King, The (1995)',\n",
       " 'Taxi Driver (1976)',\n",
       " 'Shadows (Cienie) (1988)',\n",
       " 'Washington Square (1997)',\n",
       " 'Cat People (1982)')"
      ]
     },
     "execution_count": 2,
     "metadata": {},
     "output_type": "execute_result"
    }
   ],
   "source": [
    "('Three Wishes (1995)',\n",
    " 'To Live (Huozhe) (1994)',\n",
    " 'Marlene Dietrich: Shadow and Light (1996) ',\n",
    " 'Mad Dog Time (1996)',\n",
    " 'On Golden Pond (1981)',\n",
    " 'Free Willy 3: The Rescue (1997)',\n",
    " 'Escape to Witch Mountain (1975)',\n",
    " 'Best of the Best 3: No Turning Back (1995)',\n",
    " 'Before the Rain (Pred dozhdot) (1994)',\n",
    " 'Batman & Robin (1997)',\n",
    " 'Journey of August King, The (1995)',\n",
    " 'Taxi Driver (1976)',\n",
    " 'Shadows (Cienie) (1988)',\n",
    " 'Washington Square (1997)',\n",
    " 'Cat People (1982)')\n"
   ]
  },
  {
   "cell_type": "markdown",
   "metadata": {},
   "source": [
    "### user_id range from 1 - 943"
   ]
  },
  {
   "cell_type": "code",
   "execution_count": null,
   "metadata": {},
   "outputs": [],
   "source": []
  },
  {
   "cell_type": "markdown",
   "metadata": {},
   "source": [
    "### running the \"user_input\" function would prompt the users to take in input"
   ]
  },
  {
   "cell_type": "code",
   "execution_count": 3,
   "metadata": {},
   "outputs": [
    {
     "name": "stdin",
     "output_type": "stream",
     "text": [
      "enter similarity type as either 'users' or 'movies'  users\n",
      "Enter the ID of the first user:  1\n",
      "Enter the ID of the second user:  2\n"
     ]
    },
    {
     "name": "stdout",
     "output_type": "stream",
     "text": [
      "similarity_metric_type : cosine, sq_euclidean,minkowski,spearman,chebyshev,hamming\n"
     ]
    },
    {
     "name": "stdin",
     "output_type": "stream",
     "text": [
      "Enter the ID of the similarity_metric_type:  cosine\n"
     ]
    },
    {
     "name": "stdout",
     "output_type": "stream",
     "text": [
      "The similarity between user:  1  and user:  2  is :  0.9605819645600208\n"
     ]
    },
    {
     "name": "stdin",
     "output_type": "stream",
     "text": [
      "Enter the exit status as 1 to continue or 0 to stop 1\n",
      "enter similarity type as either 'users' or 'movies'  movies\n",
      "Enter the Title of the first movie :  Batman & Robin (1997)\n",
      "Enter the Title of the second movie :  Cat People (1982)\n"
     ]
    },
    {
     "name": "stdout",
     "output_type": "stream",
     "text": [
      "similarity_metric_type : cosine, sq_euclidean,minkowski,spearman,chebyshev,hamming\n"
     ]
    },
    {
     "name": "stdin",
     "output_type": "stream",
     "text": [
      "Enter the ID of the similarity_metric_type:  hamming\n"
     ]
    },
    {
     "name": "stdout",
     "output_type": "stream",
     "text": [
      "The similarity between the movie :  Batman & Robin (1997)  and the movie:  Cat People (1982)  is :  5\n"
     ]
    },
    {
     "name": "stdin",
     "output_type": "stream",
     "text": [
      "Enter the exit status as 1 to continue or 0 to stop 0\n"
     ]
    },
    {
     "name": "stdout",
     "output_type": "stream",
     "text": [
      "Thanks for using this recommender engine ; have a nice day\n"
     ]
    }
   ],
   "source": [
    "user_input()"
   ]
  },
  {
   "cell_type": "code",
   "execution_count": null,
   "metadata": {},
   "outputs": [],
   "source": []
  },
  {
   "cell_type": "code",
   "execution_count": null,
   "metadata": {},
   "outputs": [],
   "source": []
  }
 ],
 "metadata": {
  "kernelspec": {
   "display_name": "Python 3",
   "language": "python",
   "name": "python3"
  },
  "language_info": {
   "codemirror_mode": {
    "name": "ipython",
    "version": 3
   },
   "file_extension": ".py",
   "mimetype": "text/x-python",
   "name": "python",
   "nbconvert_exporter": "python",
   "pygments_lexer": "ipython3",
   "version": "3.7.6"
  }
 },
 "nbformat": 4,
 "nbformat_minor": 4
}
